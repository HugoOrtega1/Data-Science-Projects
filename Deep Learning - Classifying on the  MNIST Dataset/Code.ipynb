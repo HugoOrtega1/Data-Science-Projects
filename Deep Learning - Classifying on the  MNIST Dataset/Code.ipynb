{
 "cells": [
  {
   "cell_type": "markdown",
   "id": "4bf8007c",
   "metadata": {},
   "source": [
    "## Import Releveant Libraries "
   ]
  },
  {
   "cell_type": "code",
   "execution_count": 2,
   "id": "18e78737",
   "metadata": {},
   "outputs": [],
   "source": [
    "import numpy as np\n",
    "import tensorflow as tf\n",
    "\n",
    "import tensorflow_datasets as tfds"
   ]
  },
  {
   "cell_type": "markdown",
   "id": "b32f800b",
   "metadata": {},
   "source": [
    "## Loading Data"
   ]
  },
  {
   "cell_type": "code",
   "execution_count": 3,
   "id": "dbdb2483",
   "metadata": {},
   "outputs": [
    {
     "name": "stderr",
     "output_type": "stream",
     "text": [
      "WARNING:absl:Warning: Setting shuffle_files=True because split=TRAIN and shuffle_files=None. This behavior will be deprecated on 2019-08-06, at which point shuffle_files=False will be the default for all splits.\n"
     ]
    }
   ],
   "source": [
    "# Loading data as 2 tuple structure \n",
    "mnist_dataset, mnist_info = tfds.load(name='mnist', with_info=True, as_supervised=True)"
   ]
  },
  {
   "cell_type": "markdown",
   "id": "38eb413a",
   "metadata": {},
   "source": [
    "## Pre Proccessing "
   ]
  },
  {
   "cell_type": "code",
   "execution_count": 4,
   "id": "14912dc5",
   "metadata": {},
   "outputs": [],
   "source": [
    "## Creating train and test variable\n",
    "mnist_train, mnist_test = mnist_dataset['train'], mnist_dataset['test']\n",
    "\n",
    "#creating validation samples using 10 percent of the training\n",
    "num_validation_samples = 0.1 * mnist_info.splits['train'].num_examples\n",
    "num_validation_samples = tf.cast(num_validation_samples, tf.int64)\n",
    "\n",
    "#creating test samples\n",
    "num_test_samples = mnist_info.splits['test'].num_examples\n",
    "num_test_samples = tf.cast(num_test_samples, tf.int64)\n",
    "\n",
    "#creating a function that scales input\n",
    "def scale(image,label):\n",
    "    image = tf.cast(image, tf.float32)\n",
    "    image /= 255.\n",
    "    return image, label\n",
    "\n",
    "scaled_train_and_validation_data = mnist_train.map(scale)\n",
    "test_data = mnist_test.map(scale)"
   ]
  },
  {
   "cell_type": "code",
   "execution_count": 6,
   "id": "244a5a1b",
   "metadata": {},
   "outputs": [],
   "source": [
    "#Setting buffer size to 10000 and shuffling scaled training samples\n",
    "BUFFER_SIZE = 10000\n",
    "shuffled_train_and_validation_data = scaled_train_and_validation_data.shuffle(BUFFER_SIZE)\n",
    "\n",
    "#creating validation dataset\n",
    "validation_data = shuffled_train_and_validation_data.take(num_validation_samples)\n",
    "train_data = shuffled_train_and_validation_data.skip(num_validation_samples)\n",
    "\n",
    "\n",
    "#Creating batch size\n",
    "BATCH_SIZE = 100\n",
    "\n",
    "#setting batch to 100 to indicate to the model how many samples to take in each bacth\n",
    "train_data = train_data.batch(BATCH_SIZE)\n",
    "validation_data = validation_data.batch(num_validation_samples)\n",
    "test_data = test_data.batch(num_test_samples)\n",
    "\n",
    "\n",
    "validation_inputs, validation_targets = next(iter(validation_data))"
   ]
  },
  {
   "cell_type": "markdown",
   "id": "b680e162",
   "metadata": {},
   "source": [
    "## Model\n",
    "\n",
    "## Outline the model"
   ]
  },
  {
   "cell_type": "code",
   "execution_count": 12,
   "id": "5503d4a7",
   "metadata": {},
   "outputs": [],
   "source": [
    "#Creting input,output and hidden layer size\n",
    "input_size = 784\n",
    "out_size = 10\n",
    "hidden_layer_size = 100\n",
    "\n",
    "#Defining the model and stacking the layers\n",
    "model = tf.keras.Sequential([\n",
    "                            tf.keras.layers.Flatten(input_shape=(28,28,1)),\n",
    "                            tf.keras.layers.Dense(hidden_layer_size, activation='relu'),\n",
    "                            tf.keras.layers.Dense(hidden_layer_size, activation='relu'),\n",
    "                            tf.keras.layers.Dense(out_size, activation='softmax'),\n",
    "    \n",
    "])"
   ]
  },
  {
   "cell_type": "markdown",
   "id": "5c15f2c9",
   "metadata": {},
   "source": [
    "## Choose the optimizer and the loss function\n"
   ]
  },
  {
   "cell_type": "code",
   "execution_count": 13,
   "id": "7ce76caa",
   "metadata": {},
   "outputs": [],
   "source": [
    "model.compile(optimizer='adam', loss='sparse_categorical_crossentropy', metrics=['accuracy'])"
   ]
  },
  {
   "cell_type": "markdown",
   "id": "f22dd5d5",
   "metadata": {},
   "source": [
    "## Training "
   ]
  },
  {
   "cell_type": "code",
   "execution_count": 14,
   "id": "90d5a13d",
   "metadata": {},
   "outputs": [
    {
     "name": "stdout",
     "output_type": "stream",
     "text": [
      "Epoch 1/5\n",
      "540/540 - 3s - loss: 0.3360 - accuracy: 0.9037 - val_loss: 0.1881 - val_accuracy: 0.9483\n",
      "Epoch 2/5\n",
      "540/540 - 3s - loss: 0.1367 - accuracy: 0.9595 - val_loss: 0.1260 - val_accuracy: 0.9662\n",
      "Epoch 3/5\n",
      "540/540 - 3s - loss: 0.0961 - accuracy: 0.9714 - val_loss: 0.0977 - val_accuracy: 0.9703\n",
      "Epoch 4/5\n",
      "540/540 - 3s - loss: 0.0721 - accuracy: 0.9781 - val_loss: 0.0732 - val_accuracy: 0.9783\n",
      "Epoch 5/5\n",
      "540/540 - 3s - loss: 0.0586 - accuracy: 0.9819 - val_loss: 0.0640 - val_accuracy: 0.9805\n"
     ]
    },
    {
     "data": {
      "text/plain": [
       "<tensorflow.python.keras.callbacks.History at 0x239cf42d588>"
      ]
     },
     "execution_count": 14,
     "metadata": {},
     "output_type": "execute_result"
    }
   ],
   "source": [
    "NUM_EPOCHS = 5\n",
    "\n",
    "model.fit(train_data, epochs = NUM_EPOCHS, validation_data=(validation_inputs, validation_targets), verbose=2)"
   ]
  },
  {
   "cell_type": "markdown",
   "id": "fb31279a",
   "metadata": {},
   "source": [
    "## Test the model"
   ]
  },
  {
   "cell_type": "code",
   "execution_count": 16,
   "id": "69b62f42",
   "metadata": {},
   "outputs": [
    {
     "name": "stdout",
     "output_type": "stream",
     "text": [
      "1/1 [==============================] - 0s 8ms/step - loss: 0.0800 - accuracy: 0.9755\n"
     ]
    }
   ],
   "source": [
    "test_loss, test_accuracy = model.evaluate(test_data)"
   ]
  },
  {
   "cell_type": "code",
   "execution_count": null,
   "id": "03eb699a",
   "metadata": {},
   "outputs": [],
   "source": []
  }
 ],
 "metadata": {
  "kernelspec": {
   "display_name": "Python 3",
   "language": "python",
   "name": "python3"
  },
  "language_info": {
   "codemirror_mode": {
    "name": "ipython",
    "version": 3
   },
   "file_extension": ".py",
   "mimetype": "text/x-python",
   "name": "python",
   "nbconvert_exporter": "python",
   "pygments_lexer": "ipython3",
   "version": "3.7.6"
  }
 },
 "nbformat": 4,
 "nbformat_minor": 5
}
